{
  "nbformat": 4,
  "nbformat_minor": 0,
  "metadata": {
    "colab": {
      "provenance": []
    },
    "kernelspec": {
      "name": "python3",
      "display_name": "Python 3"
    },
    "language_info": {
      "name": "python"
    }
  },
  "cells": [
    {
      "cell_type": "code",
      "execution_count": 7,
      "metadata": {
        "colab": {
          "base_uri": "https://localhost:8080/"
        },
        "id": "7dBH7ad21wJc",
        "outputId": "8501ea33-1af3-428d-fb8d-0201fe2af01a"
      },
      "outputs": [
        {
          "output_type": "execute_result",
          "data": {
            "text/plain": [
              "(23182, 1)"
            ]
          },
          "metadata": {},
          "execution_count": 7
        }
      ],
      "source": [
        "import pandas as pd\n",
        "\n",
        "files = [\"vid_1.csv\", \"vid_2.csv\", \"vid_3.csv\", \"vid_4.csv\", \"vid_5.csv\"]\n",
        "dfs = [pd.read_csv(f) for f in files]\n",
        "\n",
        "combined_df = pd.concat(dfs, ignore_index=True)\n",
        "combined_df.shape"
      ]
    },
    {
      "cell_type": "code",
      "source": [
        "combined_df.duplicated().value_counts()"
      ],
      "metadata": {
        "colab": {
          "base_uri": "https://localhost:8080/",
          "height": 147
        },
        "id": "ptI6yKc_CPMs",
        "outputId": "bc1971bd-f20c-4598-e4b8-08d1c08d6c74"
      },
      "execution_count": 5,
      "outputs": [
        {
          "output_type": "execute_result",
          "data": {
            "text/plain": [
              "False    20918\n",
              "True      2264\n",
              "Name: count, dtype: int64"
            ],
            "text/html": [
              "<div>\n",
              "<style scoped>\n",
              "    .dataframe tbody tr th:only-of-type {\n",
              "        vertical-align: middle;\n",
              "    }\n",
              "\n",
              "    .dataframe tbody tr th {\n",
              "        vertical-align: top;\n",
              "    }\n",
              "\n",
              "    .dataframe thead th {\n",
              "        text-align: right;\n",
              "    }\n",
              "</style>\n",
              "<table border=\"1\" class=\"dataframe\">\n",
              "  <thead>\n",
              "    <tr style=\"text-align: right;\">\n",
              "      <th></th>\n",
              "      <th>count</th>\n",
              "    </tr>\n",
              "  </thead>\n",
              "  <tbody>\n",
              "    <tr>\n",
              "      <th>False</th>\n",
              "      <td>20918</td>\n",
              "    </tr>\n",
              "    <tr>\n",
              "      <th>True</th>\n",
              "      <td>2264</td>\n",
              "    </tr>\n",
              "  </tbody>\n",
              "</table>\n",
              "</div><br><label><b>dtype:</b> int64</label>"
            ]
          },
          "metadata": {},
          "execution_count": 5
        }
      ]
    },
    {
      "cell_type": "code",
      "source": [
        "# drop duplicate comments\n",
        "combined_df = combined_df.drop_duplicates(subset=[\"Comment\"]).reset_index(drop=True)\n",
        "combined_df.to_csv(\"combined_dpr.csv\", index=False)"
      ],
      "metadata": {
        "id": "g_jIX4bwCPJR"
      },
      "execution_count": 9,
      "outputs": []
    }
  ]
}